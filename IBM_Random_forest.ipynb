{
 "cells": [
  {
   "cell_type": "code",
   "execution_count": 1,
   "id": "47a41d08",
   "metadata": {},
   "outputs": [],
   "source": [
    "import numpy as np\n",
    "import pandas as pd\n",
    "import matplotlib.pyplot as plt\n",
    "from sklearn.ensemble import RandomForestRegressor"
   ]
  },
  {
   "cell_type": "code",
   "execution_count": 2,
   "id": "4202750f",
   "metadata": {},
   "outputs": [],
   "source": [
    "df = pd.read_csv(\"C:\\\\Users\\\\91762\\\\Music\\\\TY_SEM_2\\\\DT\\\\IBM.csv\")"
   ]
  },
  {
   "cell_type": "code",
   "execution_count": 4,
   "id": "16f5ef99",
   "metadata": {},
   "outputs": [
    {
     "data": {
      "text/html": [
       "<div>\n",
       "<style scoped>\n",
       "    .dataframe tbody tr th:only-of-type {\n",
       "        vertical-align: middle;\n",
       "    }\n",
       "\n",
       "    .dataframe tbody tr th {\n",
       "        vertical-align: top;\n",
       "    }\n",
       "\n",
       "    .dataframe thead th {\n",
       "        text-align: right;\n",
       "    }\n",
       "</style>\n",
       "<table border=\"1\" class=\"dataframe\">\n",
       "  <thead>\n",
       "    <tr style=\"text-align: right;\">\n",
       "      <th></th>\n",
       "      <th>Date</th>\n",
       "      <th>Open</th>\n",
       "      <th>High</th>\n",
       "      <th>Low</th>\n",
       "      <th>Close</th>\n",
       "      <th>Adj Close</th>\n",
       "      <th>Volume</th>\n",
       "    </tr>\n",
       "  </thead>\n",
       "  <tbody>\n",
       "    <tr>\n",
       "      <th>0</th>\n",
       "      <td>1962-01-02</td>\n",
       "      <td>7.374124</td>\n",
       "      <td>7.374124</td>\n",
       "      <td>7.291268</td>\n",
       "      <td>7.291268</td>\n",
       "      <td>1.673325</td>\n",
       "      <td>407940</td>\n",
       "    </tr>\n",
       "    <tr>\n",
       "      <th>1</th>\n",
       "      <td>1962-01-03</td>\n",
       "      <td>7.291268</td>\n",
       "      <td>7.355003</td>\n",
       "      <td>7.291268</td>\n",
       "      <td>7.355003</td>\n",
       "      <td>1.687950</td>\n",
       "      <td>305955</td>\n",
       "    </tr>\n",
       "    <tr>\n",
       "      <th>2</th>\n",
       "      <td>1962-01-04</td>\n",
       "      <td>7.355003</td>\n",
       "      <td>7.355003</td>\n",
       "      <td>7.278521</td>\n",
       "      <td>7.281708</td>\n",
       "      <td>1.671130</td>\n",
       "      <td>274575</td>\n",
       "    </tr>\n",
       "    <tr>\n",
       "      <th>3</th>\n",
       "      <td>1962-01-05</td>\n",
       "      <td>7.272148</td>\n",
       "      <td>7.272148</td>\n",
       "      <td>7.125558</td>\n",
       "      <td>7.138305</td>\n",
       "      <td>1.638219</td>\n",
       "      <td>384405</td>\n",
       "    </tr>\n",
       "    <tr>\n",
       "      <th>4</th>\n",
       "      <td>1962-01-08</td>\n",
       "      <td>7.131931</td>\n",
       "      <td>7.131931</td>\n",
       "      <td>6.947100</td>\n",
       "      <td>7.004461</td>\n",
       "      <td>1.607504</td>\n",
       "      <td>572685</td>\n",
       "    </tr>\n",
       "  </tbody>\n",
       "</table>\n",
       "</div>"
      ],
      "text/plain": [
       "         Date      Open      High       Low     Close  Adj Close  Volume\n",
       "0  1962-01-02  7.374124  7.374124  7.291268  7.291268   1.673325  407940\n",
       "1  1962-01-03  7.291268  7.355003  7.291268  7.355003   1.687950  305955\n",
       "2  1962-01-04  7.355003  7.355003  7.278521  7.281708   1.671130  274575\n",
       "3  1962-01-05  7.272148  7.272148  7.125558  7.138305   1.638219  384405\n",
       "4  1962-01-08  7.131931  7.131931  6.947100  7.004461   1.607504  572685"
      ]
     },
     "execution_count": 4,
     "metadata": {},
     "output_type": "execute_result"
    }
   ],
   "source": [
    "df.head()"
   ]
  },
  {
   "cell_type": "code",
   "execution_count": 6,
   "id": "d8677b81",
   "metadata": {},
   "outputs": [
    {
     "data": {
      "text/plain": [
       "(15202, 7)"
      ]
     },
     "execution_count": 6,
     "metadata": {},
     "output_type": "execute_result"
    }
   ],
   "source": [
    "df.shape"
   ]
  },
  {
   "cell_type": "code",
   "execution_count": 8,
   "id": "b714c05f",
   "metadata": {},
   "outputs": [
    {
     "data": {
      "text/html": [
       "<div>\n",
       "<style scoped>\n",
       "    .dataframe tbody tr th:only-of-type {\n",
       "        vertical-align: middle;\n",
       "    }\n",
       "\n",
       "    .dataframe tbody tr th {\n",
       "        vertical-align: top;\n",
       "    }\n",
       "\n",
       "    .dataframe thead th {\n",
       "        text-align: right;\n",
       "    }\n",
       "</style>\n",
       "<table border=\"1\" class=\"dataframe\">\n",
       "  <thead>\n",
       "    <tr style=\"text-align: right;\">\n",
       "      <th></th>\n",
       "      <th>Open</th>\n",
       "      <th>High</th>\n",
       "      <th>Low</th>\n",
       "      <th>Close</th>\n",
       "      <th>Adj Close</th>\n",
       "      <th>Volume</th>\n",
       "    </tr>\n",
       "  </thead>\n",
       "  <tbody>\n",
       "    <tr>\n",
       "      <th>count</th>\n",
       "      <td>15202.000000</td>\n",
       "      <td>15202.000000</td>\n",
       "      <td>15202.000000</td>\n",
       "      <td>15202.000000</td>\n",
       "      <td>15202.000000</td>\n",
       "      <td>1.520200e+04</td>\n",
       "    </tr>\n",
       "    <tr>\n",
       "      <th>mean</th>\n",
       "      <td>59.870226</td>\n",
       "      <td>60.426162</td>\n",
       "      <td>59.342259</td>\n",
       "      <td>59.887897</td>\n",
       "      <td>39.013995</td>\n",
       "      <td>5.102502e+06</td>\n",
       "    </tr>\n",
       "    <tr>\n",
       "      <th>std</th>\n",
       "      <td>55.280873</td>\n",
       "      <td>55.731535</td>\n",
       "      <td>54.860107</td>\n",
       "      <td>55.304002</td>\n",
       "      <td>43.805940</td>\n",
       "      <td>4.651611e+06</td>\n",
       "    </tr>\n",
       "    <tr>\n",
       "      <th>min</th>\n",
       "      <td>3.900574</td>\n",
       "      <td>4.098152</td>\n",
       "      <td>3.824092</td>\n",
       "      <td>3.900574</td>\n",
       "      <td>0.895433</td>\n",
       "      <td>0.000000e+00</td>\n",
       "    </tr>\n",
       "    <tr>\n",
       "      <th>25%</th>\n",
       "      <td>15.535373</td>\n",
       "      <td>15.625000</td>\n",
       "      <td>15.415870</td>\n",
       "      <td>15.520435</td>\n",
       "      <td>4.484970</td>\n",
       "      <td>1.459798e+06</td>\n",
       "    </tr>\n",
       "    <tr>\n",
       "      <th>50%</th>\n",
       "      <td>28.501434</td>\n",
       "      <td>28.755378</td>\n",
       "      <td>28.232553</td>\n",
       "      <td>28.501434</td>\n",
       "      <td>12.575369</td>\n",
       "      <td>4.333578e+06</td>\n",
       "    </tr>\n",
       "    <tr>\n",
       "      <th>75%</th>\n",
       "      <td>106.097036</td>\n",
       "      <td>108.208053</td>\n",
       "      <td>104.633724</td>\n",
       "      <td>106.447181</td>\n",
       "      <td>65.151838</td>\n",
       "      <td>7.112800e+06</td>\n",
       "    </tr>\n",
       "    <tr>\n",
       "      <th>max</th>\n",
       "      <td>205.908218</td>\n",
       "      <td>206.405350</td>\n",
       "      <td>204.875717</td>\n",
       "      <td>206.309753</td>\n",
       "      <td>143.662125</td>\n",
       "      <td>7.263916e+07</td>\n",
       "    </tr>\n",
       "  </tbody>\n",
       "</table>\n",
       "</div>"
      ],
      "text/plain": [
       "               Open          High           Low         Close     Adj Close  \\\n",
       "count  15202.000000  15202.000000  15202.000000  15202.000000  15202.000000   \n",
       "mean      59.870226     60.426162     59.342259     59.887897     39.013995   \n",
       "std       55.280873     55.731535     54.860107     55.304002     43.805940   \n",
       "min        3.900574      4.098152      3.824092      3.900574      0.895433   \n",
       "25%       15.535373     15.625000     15.415870     15.520435      4.484970   \n",
       "50%       28.501434     28.755378     28.232553     28.501434     12.575369   \n",
       "75%      106.097036    108.208053    104.633724    106.447181     65.151838   \n",
       "max      205.908218    206.405350    204.875717    206.309753    143.662125   \n",
       "\n",
       "             Volume  \n",
       "count  1.520200e+04  \n",
       "mean   5.102502e+06  \n",
       "std    4.651611e+06  \n",
       "min    0.000000e+00  \n",
       "25%    1.459798e+06  \n",
       "50%    4.333578e+06  \n",
       "75%    7.112800e+06  \n",
       "max    7.263916e+07  "
      ]
     },
     "execution_count": 8,
     "metadata": {},
     "output_type": "execute_result"
    }
   ],
   "source": [
    "df.describe()"
   ]
  },
  {
   "cell_type": "code",
   "execution_count": 9,
   "id": "eb19476c",
   "metadata": {},
   "outputs": [
    {
     "data": {
      "text/plain": [
       "<AxesSubplot:xlabel='Date'>"
      ]
     },
     "execution_count": 9,
     "metadata": {},
     "output_type": "execute_result"
    },
    {
     "data": {
      "image/png": "[encoded data removed]",
      "text/plain": [
       "<Figure size 432x288 with 1 Axes>"
      ]
     },
     "metadata": {
      "needs_background": "light"
     },
     "output_type": "display_data"
    }
   ],
   "source": [
    "df.plot(x=\"Date\",y=\"Close\")"
   ]
  },
  {
   "cell_type": "code",
   "execution_count": 12,
   "id": "4d247b26",
   "metadata": {},
   "outputs": [
    {
     "data": {
      "text/plain": [
       "<AxesSubplot:xlabel='Open'>"
      ]
     },
     "execution_count": 12,
     "metadata": {},
     "output_type": "execute_result"
    },
    {
     "data": {
      "image/png": "[encoded data removed]",
      "text/plain": [
       "<Figure size 432x288 with 1 Axes>"
      ]
     },
     "metadata": {
      "needs_background": "light"
     },
     "output_type": "display_data"
    }
   ],
   "source": [
    "df.plot(x=\"Open\",y=\"Close\")"
   ]
  },
  {
   "cell_type": "code",
   "execution_count": null,
   "id": "62d826c1",
   "metadata": {},
   "outputs": [],
   "source": []
  },
  {
   "cell_type": "code",
   "execution_count": 13,
   "id": "f3b5eb47",
   "metadata": {},
   "outputs": [
    {
     "data": {
      "text/plain": [
       "Date         0\n",
       "Open         0\n",
       "High         0\n",
       "Low          0\n",
       "Close        0\n",
       "Adj Close    0\n",
       "Volume       0\n",
       "dtype: int64"
      ]
     },
     "execution_count": 13,
     "metadata": {},
     "output_type": "execute_result"
    }
   ],
   "source": [
    "df.isnull().sum()"
   ]
  },
  {
   "cell_type": "code",
   "execution_count": 14,
   "id": "0c6167a8",
   "metadata": {},
   "outputs": [
    {
     "data": {
      "text/plain": [
       "Date         False\n",
       "Open         False\n",
       "High         False\n",
       "Low          False\n",
       "Close        False\n",
       "Adj Close    False\n",
       "Volume       False\n",
       "dtype: bool"
      ]
     },
     "execution_count": 14,
     "metadata": {},
     "output_type": "execute_result"
    }
   ],
   "source": [
    "df.isna().any()"
   ]
  },
  {
   "cell_type": "code",
   "execution_count": 16,
   "id": "eb311e64",
   "metadata": {},
   "outputs": [
    {
     "name": "stdout",
     "output_type": "stream",
     "text": [
      "<class 'pandas.core.frame.DataFrame'>\n",
      "RangeIndex: 15202 entries, 0 to 15201\n",
      "Data columns (total 7 columns):\n",
      " #   Column     Non-Null Count  Dtype  \n",
      "---  ------     --------------  -----  \n",
      " 0   Date       15202 non-null  object \n",
      " 1   Open       15202 non-null  float64\n",
      " 2   High       15202 non-null  float64\n",
      " 3   Low        15202 non-null  float64\n",
      " 4   Close      15202 non-null  float64\n",
      " 5   Adj Close  15202 non-null  float64\n",
      " 6   Volume     15202 non-null  int64  \n",
      "dtypes: float64(5), int64(1), object(1)\n",
      "memory usage: 831.5+ KB\n"
     ]
    }
   ],
   "source": [
    "df.info()"
   ]
  },
  {
   "cell_type": "code",
   "execution_count": 18,
   "id": "d503e19f",
   "metadata": {},
   "outputs": [],
   "source": [
    "model = RandomForestRegressor()"
   ]
  },
  {
   "cell_type": "code",
   "execution_count": 19,
   "id": "6fe3f955",
   "metadata": {},
   "outputs": [
    {
     "data": {
      "text/plain": [
       "RandomForestRegressor()"
      ]
     },
     "execution_count": 19,
     "metadata": {},
     "output_type": "execute_result"
    }
   ],
   "source": [
    "X = df[[\"Open\",\"High\",\"Low\",\"Volume\"]]\n",
    "X = X[:int(len(df)-1)]\n",
    "y = df['Close']\n",
    "y = y[:int(len(df)-1)]\n",
    "model.fit(X,y)"
   ]
  },
  {
   "cell_type": "code",
   "execution_count": 20,
   "id": "48887307",
   "metadata": {},
   "outputs": [
    {
     "data": {
      "text/plain": [
       "0.9999877545454955"
      ]
     },
     "execution_count": 20,
     "metadata": {},
     "output_type": "execute_result"
    }
   ],
   "source": [
    "model.score(X,y)"
   ]
  },
  {
   "cell_type": "code",
   "execution_count": 21,
   "id": "bcf13d53",
   "metadata": {},
   "outputs": [
    {
     "data": {
      "text/plain": [
       "array([7.30221462])"
      ]
     },
     "execution_count": 21,
     "metadata": {},
     "output_type": "execute_result"
    }
   ],
   "source": [
    "model.predict(df[[\"Open\",\"High\",\"Low\",\"Volume\"]].head(1))"
   ]
  },
  {
   "cell_type": "code",
   "execution_count": 22,
   "id": "7e179be9",
   "metadata": {},
   "outputs": [
    {
     "data": {
      "text/plain": [
       "7.291268"
      ]
     },
     "execution_count": 22,
     "metadata": {},
     "output_type": "execute_result"
    }
   ],
   "source": [
    "df[[\"Close\"]].head(1).values[0][0]"
   ]
  },
  {
   "cell_type": "code",
   "execution_count": 23,
   "id": "77303e00",
   "metadata": {},
   "outputs": [],
   "source": [
    "model1 = RandomForestRegressor(n_estimators=50,criterion='mse')"
   ]
  },
  {
   "cell_type": "code",
   "execution_count": 24,
   "id": "fe16a572",
   "metadata": {},
   "outputs": [
    {
     "data": {
      "text/plain": [
       "RandomForestRegressor(n_estimators=50)"
      ]
     },
     "execution_count": 24,
     "metadata": {},
     "output_type": "execute_result"
    }
   ],
   "source": [
    "model1.fit(X,y)"
   ]
  },
  {
   "cell_type": "code",
   "execution_count": 25,
   "id": "b62ff097",
   "metadata": {},
   "outputs": [
    {
     "data": {
      "text/plain": [
       "0.9999870810394436"
      ]
     },
     "execution_count": 25,
     "metadata": {},
     "output_type": "execute_result"
    }
   ],
   "source": [
    "model1.score(X,y)"
   ]
  },
  {
   "cell_type": "code",
   "execution_count": null,
   "id": "6db89136",
   "metadata": {},
   "outputs": [],
   "source": []
  }
 ],
 "metadata": {
  "kernelspec": {
   "display_name": "Python 3",
   "language": "python",
   "name": "python3"
  },
  "language_info": {
   "codemirror_mode": {
    "name": "ipython",
    "version": 3
   },
   "file_extension": ".py",
   "mimetype": "text/x-python",
   "name": "python",
   "nbconvert_exporter": "python",
   "pygments_lexer": "ipython3",
   "version": "3.8.8"
  }
 },
 "nbformat": 4,
 "nbformat_minor": 5
}
